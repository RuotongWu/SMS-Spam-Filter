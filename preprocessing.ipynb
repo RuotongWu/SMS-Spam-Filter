{
 "cells": [
  {
   "cell_type": "code",
   "execution_count": 4,
   "metadata": {},
   "outputs": [],
   "source": [
    "import numpy as np\n",
    "import pandas as pd\n",
    "import os\n",
    "from wordcloud import WordCloud, STOPWORDS, ImageColorGenerator\n",
    "\n",
    "import matplotlib.pyplot as plt\n",
    "\n",
    "cwd = os.getcwd()"
   ]
  },
  {
   "cell_type": "code",
   "execution_count": 18,
   "metadata": {},
   "outputs": [
    {
     "name": "stdout",
     "output_type": "stream",
     "text": [
      "       Tag                                            Message\n",
      "2     spam  Free entry in 2 a wkly comp to win FA Cup fina...\n",
      "5     spam  FreeMsg Hey there darling it's been 3 week's n...\n",
      "8     spam  WINNER!! As a valued network customer you have...\n",
      "9     spam  Had your mobile 11 months or more? U R entitle...\n",
      "11    spam  SIX chances to win CASH! From 100 to 20,000 po...\n",
      "12    spam  URGENT! You have won a 1 week FREE membership ...\n",
      "15    spam  XXXMobileMovieClub: To use your credit, click ...\n",
      "19    spam  England v Macedonia - dont miss the goals/team...\n",
      "34    spam  Thanks for your subscription to Ringtone UK yo...\n",
      "42    spam  07732584351 - Rodger Burns - MSG = We tried to...\n",
      "54    spam  SMS. ac Sptv: The New Jersey Devils and the De...\n",
      "56    spam  Congrats! 1 year special cinema pass for 2 is ...\n",
      "65    spam  As a valued customer, I am pleased to advise y...\n",
      "67    spam  Urgent UR awarded a complimentary trip to Euro...\n",
      "68    spam  Did you hear about the new \"Divorce Barbie\"? I...\n",
      "93    spam  Please call our customer service representativ...\n",
      "95    spam  Your free ringtone is waiting to be collected....\n",
      "114   spam  GENT! We are trying to contact you. Last weeke...\n",
      "117   spam  You are a winner U have been specially selecte...\n",
      "120   spam  PRIVATE! Your 2004 Account Statement for 07742...\n",
      "121   spam  URGENT! Your Mobile No. was awarded £2000 Bonu...\n",
      "123   spam  Todays Voda numbers ending 7548 are selected t...\n",
      "134   spam  Sunshine Quiz Wkly Q! Win a top Sony DVD playe...\n",
      "135   spam  Want 2 get laid tonight? Want real Dogging loc...\n",
      "139   spam  You'll not rcv any more msgs from the chat svc...\n",
      "147   spam  FreeMsg Why haven't you replied to my text? I'...\n",
      "159   spam  Customer service annoncement. You have a New Y...\n",
      "160   spam  You are a winner U have been specially selecte...\n",
      "164   spam  -PLS STOP bootydelious (32/F) is inviting you ...\n",
      "165   spam  BangBabes Ur order is on the way. U SHOULD rec...\n",
      "...    ...                                                ...\n",
      "5344  spam  u r subscribed 2 TEXTCOMP 250 wkly comp. 1st w...\n",
      "5366  spam  Call 09095350301 and send our girls into eroti...\n",
      "5367  spam  Camera - You are awarded a SiPix Digital Camer...\n",
      "5368  spam  A £400 XMAS REWARD IS WAITING FOR YOU! Our com...\n",
      "5370  spam  IMPORTANT MESSAGE. This is a final contact att...\n",
      "5372  spam  dating:i have had two of these. Only started a...\n",
      "5379  spam  The current leading bid is 151. To pause this ...\n",
      "5380  spam  Free entry to the gr8prizes wkly comp 4 a chan...\n",
      "5383  spam         You have 1 new message. Call 0207-083-6089\n",
      "5429  spam  Santa Calling! Would your little ones like a c...\n",
      "5445  spam  You have won a guaranteed 32000 award or maybe...\n",
      "5451  spam  Latest News! Police station toilet stolen, cop...\n",
      "5458  spam  \"For the most sparkling shopping breaks from 4...\n",
      "5462  spam  December only! Had your mobile 11mths+? You ar...\n",
      "5464  spam  Txt: CALL to No: 86888 & claim your reward of ...\n",
      "5468  spam  http//tms. widelive.com/index. wml?id=820554ad...\n",
      "5469  spam  Get your garden ready for summer with a FREE s...\n",
      "5470  spam  URGENT! Last weekend's draw shows that you hav...\n",
      "5484  spam  URGENT We are trying to contact you Last weeke...\n",
      "5489  spam  2p per min to call Germany 08448350055 from yo...\n",
      "5494  spam  Marvel Mobile Play the official Ultimate Spide...\n",
      "5499  spam  SMS SERVICES. for your inclusive text credits,...\n",
      "5503  spam  PRIVATE! Your 2003 Account Statement for 07808...\n",
      "5526  spam  You are awarded a SiPix Digital Camera! call 0...\n",
      "5528  spam  PRIVATE! Your 2003 Account Statement for shows...\n",
      "5539  spam  Want explicit SEX in 30 secs? Ring 02073162414...\n",
      "5542  spam  ASKED 3MOBILE IF 0870 CHATLINES INCLU IN FREE ...\n",
      "5549  spam  Had your contract mobile 11 Mnths? Latest Moto...\n",
      "5568  spam  REMINDER FROM O2: To get 2.50 pounds free call...\n",
      "5569  spam  This is the 2nd time we have tried 2 contact u...\n",
      "\n",
      "[747 rows x 2 columns]\n"
     ]
    }
   ],
   "source": [
    "path = cwd + \"/data/SMSSpamCollection\"\n",
    "\n",
    "with open(path) as file:\n",
    "    data = file.readlines()\n",
    "\n",
    "data = list(map(lambda line: line.strip().split(\"\\t\"),data))\n",
    "data_df = pd.DataFrame(data,columns=[\"Tag\",\"Message\"])\n",
    "spam_data_df = data_df[data_df.Tag == \"spam\"]\n",
    "ham_data_df = data_df[data_df.Tag == \"ham\"]\n",
    "print(spam_data_df)"
   ]
  },
  {
   "cell_type": "code",
   "execution_count": 61,
   "metadata": {},
   "outputs": [],
   "source": [
    "stopwords = set(STOPWORDS)\n",
    "spam_wc = WordCloud(width=800, height = 400,stopwords=stopwords,max_words=100, background_color=\"white\").generate(\" \".join(spam_data_df[\"Message\"].tolist()))\n",
    "ham_wc = WordCloud(width=800, height = 400,stopwords=stopwords,max_words=100, background_color=\"white\").generate(\" \".join(ham_data_df[\"Message\"].tolist()))"
   ]
  },
  {
   "cell_type": "code",
   "execution_count": null,
   "metadata": {},
   "outputs": [],
   "source": [
    "stopwords = set(STOPWORDS)\n",
    "spam_wc = WordCloud(width=800, \n",
    "                    height = 400,\n",
    "                    stopwords=stopwords,\n",
    "                    max_words=100, \n",
    "                    background_color=\"white\").generate(\" \".join(spam_data_df[\"Message\"].tolist()))\n",
    "\n",
    "ham_wc = WordCloud(width=800, \n",
    "                   height = 400,\n",
    "                   stopwords=stopwords,\n",
    "                   max_words=100, \n",
    "                   background_color=\"white\").generate(\" \".join(ham_data_df[\"Message\"].tolist()))\n",
    "\n",
    "plt.imshow(spam_wc,interpolation='bilinear')\n",
    "plt.axis(\"off\")\n",
    "plt.getp(plt.title(\"Spam Word Cloud\"),'text')\n",
    "plt.setp(plt.title(\"Spam Word Cloud\"),color = 'r')\n",
    "plt.show()\n",
    "spam_wc.to_file(cwd+\"/img/spam_word_cloud.png\")\n",
    "plt.imshow(ham_wc,interpolation='bilinear')\n",
    "plt.axis(\"off\")\n",
    "plt.getp(plt.title(\"Ham Word Cloud\"),'text')\n",
    "plt.show()\n",
    "ham_wc.to_file(cwd+\"/img/ham_word_cloud.png\")"
   ]
  },
  {
   "cell_type": "code",
   "execution_count": 68,
   "metadata": {},
   "outputs": [],
   "source": [
    "?plt."
   ]
  },
  {
   "cell_type": "code",
   "execution_count": null,
   "metadata": {},
   "outputs": [],
   "source": []
  }
 ],
 "metadata": {
  "kernelspec": {
   "display_name": "spam",
   "language": "python",
   "name": "spam"
  },
  "language_info": {
   "codemirror_mode": {
    "name": "ipython",
    "version": 3
   },
   "file_extension": ".py",
   "mimetype": "text/x-python",
   "name": "python",
   "nbconvert_exporter": "python",
   "pygments_lexer": "ipython3",
   "version": "3.6.8"
  }
 },
 "nbformat": 4,
 "nbformat_minor": 2
}
