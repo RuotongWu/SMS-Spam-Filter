{
 "cells": [
  {
   "cell_type": "code",
   "execution_count": 1,
   "metadata": {},
   "outputs": [
    {
     "name": "stdout",
     "output_type": "stream",
     "text": [
      "importing Jupyter notebook from data_helper.ipynb\n"
     ]
    }
   ],
   "source": [
    "import import_ipynb\n",
    "import data_helper\n",
    "import os\n",
    "import pickle"
   ]
  },
  {
   "cell_type": "code",
   "execution_count": 2,
   "metadata": {},
   "outputs": [
    {
     "name": "stdout",
     "output_type": "stream",
     "text": [
      "Start to build word embedding vectors, this may take a while...\n",
      "Embedding file loaded\n",
      "init finished\n"
     ]
    }
   ],
   "source": [
    "test_300d_lower = data_helper.data_loader(os.getcwd() + \"/data/SMSSpamCollection\",lower=True)\n",
    "with open(os.getcwd()+'/data/processed/300d_lower_processed_data.pkl','wb') as f:\n",
    "    pickle.dump(test_300d_lower,f)\n",
    "del test_300d_lower"
   ]
  },
  {
   "cell_type": "code",
   "execution_count": 3,
   "metadata": {},
   "outputs": [
    {
     "name": "stdout",
     "output_type": "stream",
     "text": [
      "Start to build word embedding vectors, this may take a while...\n",
      "Embedding file loaded\n",
      "init finished\n"
     ]
    }
   ],
   "source": [
    "test_300d = data_helper.data_loader(os.getcwd() + \"/data/SMSSpamCollection\",lower=False)\n",
    "with open(os.getcwd()+'/data/processed/300d_processed_data.pkl','wb') as f:\n",
    "    pickle.dump(test_300d,f)\n",
    "del test_300d"
   ]
  },
  {
   "cell_type": "code",
   "execution_count": 4,
   "metadata": {},
   "outputs": [
    {
     "name": "stdout",
     "output_type": "stream",
     "text": [
      "Start to build word embedding vectors, this may take a while...\n",
      "Embedding file loaded\n",
      "init finished\n"
     ]
    }
   ],
   "source": [
    "test_25d_lower = data_helper.data_loader(os.getcwd() + \"/data/SMSSpamCollection\",embedding_path = os.getcwd() + \"/data/glove.twitter.27B.25d.txt\",lower=True)\n",
    "with open(os.getcwd()+'/data/processed/25d_lower_processed_data.pkl','wb') as f:\n",
    "    pickle.dump(test_25d_lower,f)\n",
    "del test_25d_lower"
   ]
  },
  {
   "cell_type": "code",
   "execution_count": 5,
   "metadata": {},
   "outputs": [
    {
     "name": "stdout",
     "output_type": "stream",
     "text": [
      "Start to build word embedding vectors, this may take a while...\n",
      "Embedding file loaded\n",
      "init finished\n"
     ]
    }
   ],
   "source": [
    "test_25d = data_helper.data_loader(os.getcwd() + \"/data/SMSSpamCollection\",embedding_path = os.getcwd() + \"/data/glove.twitter.27B.25d.txt\",lower=False)\n",
    "with open(os.getcwd()+'/data/processed/25d_processed_data.pkl','wb') as f:\n",
    "    pickle.dump(test_25d,f)\n",
    "del test_25d"
   ]
  },
  {
   "cell_type": "code",
   "execution_count": 6,
   "metadata": {},
   "outputs": [
    {
     "name": "stdout",
     "output_type": "stream",
     "text": [
      "Start to build word embedding vectors, this may take a while...\n",
      "Embedding file loaded\n",
      "init finished\n"
     ]
    }
   ],
   "source": [
    "test_100d_lower = data_helper.data_loader(os.getcwd() + \"/data/SMSSpamCollection\",embedding_path = os.getcwd() + \"/data/glove.twitter.27B.100d.txt\",lower=True)\n",
    "with open(os.getcwd()+'/data/processed/100d_lower_processed_data.pkl','wb') as f:\n",
    "    pickle.dump(test_100d_lower,f)\n",
    "del test_100d_lower"
   ]
  },
  {
   "cell_type": "code",
   "execution_count": 7,
   "metadata": {},
   "outputs": [
    {
     "name": "stdout",
     "output_type": "stream",
     "text": [
      "Start to build word embedding vectors, this may take a while...\n",
      "Embedding file loaded\n",
      "init finished\n"
     ]
    }
   ],
   "source": [
    "test_100d = data_helper.data_loader(os.getcwd() + \"/data/SMSSpamCollection\",embedding_path = os.getcwd() + \"/data/glove.twitter.27B.100d.txt\",lower=False)\n",
    "with open(os.getcwd()+'/data/processed/100d_processed_data.pkl','wb') as f:\n",
    "    pickle.dump(test_100d,f)\n",
    "del test_100d"
   ]
  },
  {
   "cell_type": "code",
   "execution_count": 8,
   "metadata": {},
   "outputs": [
    {
     "name": "stdout",
     "output_type": "stream",
     "text": [
      "Start to build word embedding vectors, this may take a while...\n",
      "Embedding file loaded\n",
      "init finished\n"
     ]
    }
   ],
   "source": [
    "test_50d_lower = data_helper.data_loader(os.getcwd() + \"/data/SMSSpamCollection\",embedding_path = os.getcwd() + \"/data/glove.twitter.27B.50d.txt\",lower=True)\n",
    "with open(os.getcwd()+'/data/processed/50d_lower_processed_data.pkl','wb') as f:\n",
    "    pickle.dump(test_50d_lower,f)\n",
    "del test_50d_lower"
   ]
  },
  {
   "cell_type": "code",
   "execution_count": 9,
   "metadata": {},
   "outputs": [
    {
     "name": "stdout",
     "output_type": "stream",
     "text": [
      "Start to build word embedding vectors, this may take a while...\n",
      "Embedding file loaded\n",
      "init finished\n"
     ]
    }
   ],
   "source": [
    "test_50d = data_helper.data_loader(os.getcwd() + \"/data/SMSSpamCollection\",embedding_path = os.getcwd() + \"/data/glove.twitter.27B.50d.txt\",lower=False)\n",
    "with open(os.getcwd()+'/data/processed/50d_processed_data.pkl','wb') as f:\n",
    "    pickle.dump(test_50d,f)\n",
    "del test_50d "
   ]
  },
  {
   "cell_type": "code",
   "execution_count": 10,
   "metadata": {},
   "outputs": [
    {
     "name": "stdout",
     "output_type": "stream",
     "text": [
      "Start to build word embedding vectors, this may take a while...\n",
      "Embedding file loaded\n",
      "init finished\n"
     ]
    }
   ],
   "source": [
    "test_200d_lower = data_helper.data_loader(os.getcwd() + \"/data/SMSSpamCollection\",embedding_path = os.getcwd() + \"/data/glove.twitter.27B.200d.txt\",lower=True)\n",
    "with open(os.getcwd()+'/data/processed/200d_lower_processed_data.pkl','wb') as f:\n",
    "    pickle.dump(test_200d_lower,f)\n",
    "del test_200d_lower"
   ]
  },
  {
   "cell_type": "code",
   "execution_count": 11,
   "metadata": {},
   "outputs": [
    {
     "name": "stdout",
     "output_type": "stream",
     "text": [
      "Start to build word embedding vectors, this may take a while...\n",
      "Embedding file loaded\n",
      "init finished\n"
     ]
    }
   ],
   "source": [
    "test_200d = data_helper.data_loader(os.getcwd() + \"/data/SMSSpamCollection\",embedding_path = os.getcwd() + \"/data/glove.twitter.27B.200d.txt\",lower=False)\n",
    "with open(os.getcwd()+'/data/processed/200d_processed_data.pkl','wb') as f:\n",
    "    pickle.dump(test_200d,f)\n",
    "del test_200d "
   ]
  },
  {
   "cell_type": "code",
   "execution_count": null,
   "metadata": {},
   "outputs": [],
   "source": []
  }
 ],
 "metadata": {
  "kernelspec": {
   "display_name": "spam",
   "language": "python",
   "name": "spam"
  },
  "language_info": {
   "codemirror_mode": {
    "name": "ipython",
    "version": 3
   },
   "file_extension": ".py",
   "mimetype": "text/x-python",
   "name": "python",
   "nbconvert_exporter": "python",
   "pygments_lexer": "ipython3",
   "version": "3.6.7"
  }
 },
 "nbformat": 4,
 "nbformat_minor": 2
}
